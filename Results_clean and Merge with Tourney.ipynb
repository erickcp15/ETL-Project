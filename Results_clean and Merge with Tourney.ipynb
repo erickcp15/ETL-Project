{
 "cells": [
  {
   "cell_type": "code",
   "execution_count": 1,
   "metadata": {},
   "outputs": [],
   "source": [
    "import pandas as pd"
   ]
  },
  {
   "cell_type": "code",
   "execution_count": 23,
   "metadata": {},
   "outputs": [],
   "source": [
    "csv_file = \"../ETL-Project/results_clean.csv\"\n",
    "df = pd.read_csv(csv_file)\n",
    "csv_file2 = \"../ETL-Project/transformed_tourney.csv\"\n",
    "df_tourney = pd.read_csv(csv_file2)"
   ]
  },
  {
   "cell_type": "code",
   "execution_count": 3,
   "metadata": {},
   "outputs": [],
   "source": [
    "df['Winning_total_rebounds']=df['Wor']+df['Wdr']"
   ]
  },
  {
   "cell_type": "code",
   "execution_count": 4,
   "metadata": {},
   "outputs": [],
   "source": [
    "df['Winning_field_goal_%']=df['Wfgm']/df['Wfga']*100"
   ]
  },
  {
   "cell_type": "code",
   "execution_count": 5,
   "metadata": {},
   "outputs": [],
   "source": [
    "df['Winning_3_%']=df['Wfgm3']/df['Wfga3']*100"
   ]
  },
  {
   "cell_type": "code",
   "execution_count": 6,
   "metadata": {},
   "outputs": [],
   "source": [
    "df['Winning_free_throw_%']=df['Wftm']/df['Wfta']*100"
   ]
  },
  {
   "cell_type": "code",
   "execution_count": 7,
   "metadata": {},
   "outputs": [],
   "source": [
    "df['Losing_total_rebounds']=df['Lor']+df['Ldr']"
   ]
  },
  {
   "cell_type": "code",
   "execution_count": 8,
   "metadata": {},
   "outputs": [],
   "source": [
    "df['Losing_field_goal_%']=df['Wfgm']/df['Wfga']*100"
   ]
  },
  {
   "cell_type": "code",
   "execution_count": 9,
   "metadata": {},
   "outputs": [],
   "source": [
    "df['Losing_3_%']=df['Lfgm3']/df['Lfga3']*100"
   ]
  },
  {
   "cell_type": "code",
   "execution_count": 10,
   "metadata": {},
   "outputs": [],
   "source": [
    "df['Losing_free_throw_%']=df['Lftm']/df['Lfta']*100"
   ]
  },
  {
   "cell_type": "code",
   "execution_count": 12,
   "metadata": {},
   "outputs": [],
   "source": [
    "df2 = df[['season','winning_team','winning_score',\\\n",
    "          'losing_team','losing_score','Winning_field_goal_%','Winning_3_%','Winning_free_throw_%'\\\n",
    "          ,'Winning_total_rebounds','Wast','Wto','Wstl','Losing_field_goal_%','Losing_3_%','Losing_free_throw_%'\\\n",
    "         ,'Losing_total_rebounds','Last','Lto','Lstl']]"
   ]
  },
  {
   "cell_type": "code",
   "execution_count": 16,
   "metadata": {},
   "outputs": [
    {
     "data": {
      "text/html": [
       "<div>\n",
       "<style scoped>\n",
       "    .dataframe tbody tr th:only-of-type {\n",
       "        vertical-align: middle;\n",
       "    }\n",
       "\n",
       "    .dataframe tbody tr th {\n",
       "        vertical-align: top;\n",
       "    }\n",
       "\n",
       "    .dataframe thead th {\n",
       "        text-align: right;\n",
       "    }\n",
       "</style>\n",
       "<table border=\"1\" class=\"dataframe\">\n",
       "  <thead>\n",
       "    <tr style=\"text-align: right;\">\n",
       "      <th></th>\n",
       "      <th>season</th>\n",
       "      <th>winning_team</th>\n",
       "      <th>winning_score</th>\n",
       "      <th>losing_team</th>\n",
       "      <th>losing_score</th>\n",
       "      <th>Winning_field_goal_%</th>\n",
       "      <th>Winning_3_%</th>\n",
       "      <th>Winning_free_throw_%</th>\n",
       "      <th>Winning_total_rebounds</th>\n",
       "      <th>Winning_assists</th>\n",
       "      <th>Winning_turnovers</th>\n",
       "      <th>Winning_steals</th>\n",
       "      <th>Losing_field_goal_%</th>\n",
       "      <th>Losing_3_%</th>\n",
       "      <th>Losing_free_throw_%</th>\n",
       "      <th>Losing_total_rebounds</th>\n",
       "      <th>Losing_assists</th>\n",
       "      <th>Losing_turnovers</th>\n",
       "      <th>Losing_steals</th>\n",
       "    </tr>\n",
       "  </thead>\n",
       "  <tbody>\n",
       "    <tr>\n",
       "      <th>0</th>\n",
       "      <td>2003</td>\n",
       "      <td>Alabama</td>\n",
       "      <td>68</td>\n",
       "      <td>Oklahoma</td>\n",
       "      <td>62</td>\n",
       "      <td>46.551724</td>\n",
       "      <td>21.428571</td>\n",
       "      <td>61.111111</td>\n",
       "      <td>38</td>\n",
       "      <td>13</td>\n",
       "      <td>23</td>\n",
       "      <td>7</td>\n",
       "      <td>46.551724</td>\n",
       "      <td>20.000000</td>\n",
       "      <td>72.727273</td>\n",
       "      <td>32</td>\n",
       "      <td>8</td>\n",
       "      <td>18</td>\n",
       "      <td>9</td>\n",
       "    </tr>\n",
       "    <tr>\n",
       "      <th>1</th>\n",
       "      <td>2003</td>\n",
       "      <td>Memphis</td>\n",
       "      <td>70</td>\n",
       "      <td>Syracuse</td>\n",
       "      <td>63</td>\n",
       "      <td>41.935484</td>\n",
       "      <td>40.000000</td>\n",
       "      <td>52.631579</td>\n",
       "      <td>43</td>\n",
       "      <td>16</td>\n",
       "      <td>13</td>\n",
       "      <td>4</td>\n",
       "      <td>41.935484</td>\n",
       "      <td>25.000000</td>\n",
       "      <td>45.000000</td>\n",
       "      <td>45</td>\n",
       "      <td>7</td>\n",
       "      <td>12</td>\n",
       "      <td>8</td>\n",
       "    </tr>\n",
       "    <tr>\n",
       "      <th>2</th>\n",
       "      <td>2003</td>\n",
       "      <td>Marquette</td>\n",
       "      <td>73</td>\n",
       "      <td>Villanova</td>\n",
       "      <td>61</td>\n",
       "      <td>41.379310</td>\n",
       "      <td>44.444444</td>\n",
       "      <td>58.620690</td>\n",
       "      <td>43</td>\n",
       "      <td>15</td>\n",
       "      <td>10</td>\n",
       "      <td>5</td>\n",
       "      <td>41.379310</td>\n",
       "      <td>11.538462</td>\n",
       "      <td>60.869565</td>\n",
       "      <td>53</td>\n",
       "      <td>9</td>\n",
       "      <td>12</td>\n",
       "      <td>2</td>\n",
       "    </tr>\n",
       "    <tr>\n",
       "      <th>3</th>\n",
       "      <td>2003</td>\n",
       "      <td>N Illinois</td>\n",
       "      <td>56</td>\n",
       "      <td>Winthrop</td>\n",
       "      <td>50</td>\n",
       "      <td>47.368421</td>\n",
       "      <td>33.333333</td>\n",
       "      <td>54.838710</td>\n",
       "      <td>25</td>\n",
       "      <td>11</td>\n",
       "      <td>12</td>\n",
       "      <td>14</td>\n",
       "      <td>47.368421</td>\n",
       "      <td>27.272727</td>\n",
       "      <td>53.333333</td>\n",
       "      <td>37</td>\n",
       "      <td>9</td>\n",
       "      <td>19</td>\n",
       "      <td>4</td>\n",
       "    </tr>\n",
       "    <tr>\n",
       "      <th>4</th>\n",
       "      <td>2003</td>\n",
       "      <td>Texas</td>\n",
       "      <td>77</td>\n",
       "      <td>Georgia</td>\n",
       "      <td>71</td>\n",
       "      <td>49.180328</td>\n",
       "      <td>42.857143</td>\n",
       "      <td>84.615385</td>\n",
       "      <td>39</td>\n",
       "      <td>12</td>\n",
       "      <td>14</td>\n",
       "      <td>4</td>\n",
       "      <td>49.180328</td>\n",
       "      <td>37.500000</td>\n",
       "      <td>62.962963</td>\n",
       "      <td>36</td>\n",
       "      <td>12</td>\n",
       "      <td>10</td>\n",
       "      <td>7</td>\n",
       "    </tr>\n",
       "  </tbody>\n",
       "</table>\n",
       "</div>"
      ],
      "text/plain": [
       "   season winning_team  winning_score losing_team  losing_score  \\\n",
       "0    2003      Alabama             68    Oklahoma            62   \n",
       "1    2003      Memphis             70    Syracuse            63   \n",
       "2    2003    Marquette             73   Villanova            61   \n",
       "3    2003   N Illinois             56    Winthrop            50   \n",
       "4    2003        Texas             77     Georgia            71   \n",
       "\n",
       "   Winning_field_goal_%  Winning_3_%  Winning_free_throw_%  \\\n",
       "0             46.551724    21.428571             61.111111   \n",
       "1             41.935484    40.000000             52.631579   \n",
       "2             41.379310    44.444444             58.620690   \n",
       "3             47.368421    33.333333             54.838710   \n",
       "4             49.180328    42.857143             84.615385   \n",
       "\n",
       "   Winning_total_rebounds  Winning_assists  Winning_turnovers  Winning_steals  \\\n",
       "0                      38               13                 23               7   \n",
       "1                      43               16                 13               4   \n",
       "2                      43               15                 10               5   \n",
       "3                      25               11                 12              14   \n",
       "4                      39               12                 14               4   \n",
       "\n",
       "   Losing_field_goal_%  Losing_3_%  Losing_free_throw_%  \\\n",
       "0            46.551724   20.000000            72.727273   \n",
       "1            41.935484   25.000000            45.000000   \n",
       "2            41.379310   11.538462            60.869565   \n",
       "3            47.368421   27.272727            53.333333   \n",
       "4            49.180328   37.500000            62.962963   \n",
       "\n",
       "   Losing_total_rebounds  Losing_assists  Losing_turnovers  Losing_steals  \n",
       "0                     32               8                18              9  \n",
       "1                     45               7                12              8  \n",
       "2                     53               9                12              2  \n",
       "3                     37               9                19              4  \n",
       "4                     36              12                10              7  "
      ]
     },
     "execution_count": 16,
     "metadata": {},
     "output_type": "execute_result"
    }
   ],
   "source": [
    "df2 = df2.rename(columns={'Wast':'Winning_assists','Wto':'Winning_turnovers','Wstl':'Winning_steals',\\\n",
    "                          'Last':'Losing_assists','Lto':'Losing_turnovers','Lstl':'Losing_steals'})\n",
    "df2.head()"
   ]
  },
  {
   "cell_type": "code",
   "execution_count": 20,
   "metadata": {},
   "outputs": [],
   "source": [
    "df2.to_csv('Results_new_clean.csv')"
   ]
  },
  {
   "cell_type": "code",
   "execution_count": 26,
   "metadata": {},
   "outputs": [],
   "source": [
    "del df_tourney['Unnamed: 0']"
   ]
  },
  {
   "cell_type": "code",
   "execution_count": 30,
   "metadata": {},
   "outputs": [],
   "source": [
    "df_tourney.to_csv('Tourney_new_clean.csv')"
   ]
  },
  {
   "cell_type": "code",
   "execution_count": 28,
   "metadata": {},
   "outputs": [],
   "source": []
  },
  {
   "cell_type": "code",
   "execution_count": null,
   "metadata": {},
   "outputs": [],
   "source": []
  },
  {
   "cell_type": "code",
   "execution_count": null,
   "metadata": {},
   "outputs": [],
   "source": []
  }
 ],
 "metadata": {
  "kernelspec": {
   "display_name": "Python 3",
   "language": "python",
   "name": "python3"
  },
  "language_info": {
   "codemirror_mode": {
    "name": "ipython",
    "version": 3
   },
   "file_extension": ".py",
   "mimetype": "text/x-python",
   "name": "python",
   "nbconvert_exporter": "python",
   "pygments_lexer": "ipython3",
   "version": "3.7.3"
  }
 },
 "nbformat": 4,
 "nbformat_minor": 2
}
